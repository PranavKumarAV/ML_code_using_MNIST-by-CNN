{
  "nbformat": 4,
  "nbformat_minor": 0,
  "metadata": {
    "colab": {
      "name": "ML_code_using_MNIST CNN.ipynb",
      "provenance": [],
      "authorship_tag": "ABX9TyP7o++Tgh7sxZbeiH0KPe2Y",
      "include_colab_link": true
    },
    "kernelspec": {
      "name": "python3",
      "display_name": "Python 3"
    }
  },
  "cells": [
    {
      "cell_type": "markdown",
      "metadata": {
        "id": "view-in-github",
        "colab_type": "text"
      },
      "source": [
        "<a href=\"https://colab.research.google.com/github/PranavKumarAV/ML_code_using_MNIST-by-CNN/blob/master/ML_code_using_MNIST_CNN.ipynb\" target=\"_parent\"><img src=\"https://colab.research.google.com/assets/colab-badge.svg\" alt=\"Open In Colab\"/></a>"
      ]
    },
    {
      "cell_type": "code",
      "metadata": {
        "id": "XDKJKzz6eEau"
      },
      "source": [
        "import tensorflow as tf"
      ],
      "execution_count": 1,
      "outputs": []
    },
    {
      "cell_type": "code",
      "metadata": {
        "id": "4nkT3cFqer4H"
      },
      "source": [
        "mnist = tf.keras.datasets.mnist\n",
        "(training_images, training_labels), (test_images, test_labels) = mnist.load_data()"
      ],
      "execution_count": 16,
      "outputs": []
    },
    {
      "cell_type": "code",
      "metadata": {
        "id": "nDkJoQWVex2d"
      },
      "source": [
        "training_images=training_images.reshape(60000, 28, 28, 1)\n",
        "test_images = test_images.reshape(10000, 28, 28, 1)\n",
        "training_images, test_images = training_images / 255.0, test_images / 255.0"
      ],
      "execution_count": 17,
      "outputs": []
    },
    {
      "cell_type": "code",
      "metadata": {
        "id": "kmU8wfM1e3co",
        "outputId": "3715262d-43f5-4ecf-ffe9-8a5743bd9809",
        "colab": {
          "base_uri": "https://localhost:8080/",
          "height": 544
        }
      },
      "source": [
        "model = tf.keras.models.Sequential([\n",
        "            tf.keras.layers.Conv2D(32, (3,3), activation='relu', input_shape=(28, 28, 1)),\n",
        "            tf.keras.layers.MaxPooling2D(2, 2),\n",
        "            tf.keras.layers.Flatten(),\n",
        "            tf.keras.layers.Dense(120, activation='relu'),\n",
        "            tf.keras.layers.Dense(10, activation='softmax')\n",
        "    ])\n",
        "model.compile(optimizer='adam', loss='sparse_categorical_crossentropy', metrics=['accuracy'])\n",
        "model.fit(training_images, training_labels, epochs=15)"
      ],
      "execution_count": 18,
      "outputs": [
        {
          "output_type": "stream",
          "text": [
            "Epoch 1/15\n",
            "1875/1875 [==============================] - 38s 20ms/step - loss: 0.1498 - accuracy: 0.9553\n",
            "Epoch 2/15\n",
            "1875/1875 [==============================] - 37s 20ms/step - loss: 0.0498 - accuracy: 0.9845\n",
            "Epoch 3/15\n",
            "1875/1875 [==============================] - 37s 20ms/step - loss: 0.0320 - accuracy: 0.9903\n",
            "Epoch 4/15\n",
            "1875/1875 [==============================] - 37s 20ms/step - loss: 0.0211 - accuracy: 0.9935\n",
            "Epoch 5/15\n",
            "1875/1875 [==============================] - 38s 21ms/step - loss: 0.0140 - accuracy: 0.9955\n",
            "Epoch 6/15\n",
            "1875/1875 [==============================] - 37s 20ms/step - loss: 0.0096 - accuracy: 0.9970\n",
            "Epoch 7/15\n",
            "1875/1875 [==============================] - 37s 20ms/step - loss: 0.0083 - accuracy: 0.9974\n",
            "Epoch 8/15\n",
            "1875/1875 [==============================] - 37s 20ms/step - loss: 0.0052 - accuracy: 0.9983\n",
            "Epoch 9/15\n",
            "1875/1875 [==============================] - 37s 20ms/step - loss: 0.0050 - accuracy: 0.9987\n",
            "Epoch 10/15\n",
            "1875/1875 [==============================] - 36s 19ms/step - loss: 0.0042 - accuracy: 0.9986\n",
            "Epoch 11/15\n",
            "1875/1875 [==============================] - 36s 19ms/step - loss: 0.0035 - accuracy: 0.9990\n",
            "Epoch 12/15\n",
            "1875/1875 [==============================] - 37s 20ms/step - loss: 0.0032 - accuracy: 0.9991\n",
            "Epoch 13/15\n",
            "1875/1875 [==============================] - 37s 20ms/step - loss: 0.0029 - accuracy: 0.9991\n",
            "Epoch 14/15\n",
            "1875/1875 [==============================] - 39s 21ms/step - loss: 0.0030 - accuracy: 0.9990\n",
            "Epoch 15/15\n",
            "1875/1875 [==============================] - 37s 20ms/step - loss: 0.0018 - accuracy: 0.9994\n"
          ],
          "name": "stdout"
        },
        {
          "output_type": "execute_result",
          "data": {
            "text/plain": [
              "<tensorflow.python.keras.callbacks.History at 0x7f80e409da58>"
            ]
          },
          "metadata": {
            "tags": []
          },
          "execution_count": 18
        }
      ]
    },
    {
      "cell_type": "code",
      "metadata": {
        "id": "YsyDB2VYfXC8"
      },
      "source": [
        ""
      ],
      "execution_count": null,
      "outputs": []
    }
  ]
}